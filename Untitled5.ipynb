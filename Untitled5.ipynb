{
  "nbformat": 4,
  "nbformat_minor": 0,
  "metadata": {
    "colab": {
      "provenance": [],
      "authorship_tag": "ABX9TyPlNb79F0NYEqBPY/5ql8+A",
      "include_colab_link": true
    },
    "kernelspec": {
      "name": "python3",
      "display_name": "Python 3"
    },
    "language_info": {
      "name": "python"
    }
  },
  "cells": [
    {
      "cell_type": "markdown",
      "metadata": {
        "id": "view-in-github",
        "colab_type": "text"
      },
      "source": [
        "<a href=\"https://colab.research.google.com/github/Adaora-FutureAIEngineer/Adaora-s-Lab/blob/main/Untitled5.ipynb\" target=\"_parent\"><img src=\"https://colab.research.google.com/assets/colab-badge.svg\" alt=\"Open In Colab\"/></a>"
      ]
    },
    {
      "cell_type": "code",
      "execution_count": 1,
      "metadata": {
        "colab": {
          "base_uri": "https://localhost:8080/"
        },
        "id": "46vMutK4_OXk",
        "outputId": "e78b874e-8acf-4225-b43d-0e38a518a2a4"
      },
      "outputs": [
        {
          "output_type": "stream",
          "name": "stdout",
          "text": [
            "Predicted Score: 78.42434175965032\n",
            "Coefficients: [3.12117296 0.66678224 0.601431  ]\n",
            "Intercept: 3.9081930698270924\n"
          ]
        },
        {
          "output_type": "stream",
          "name": "stderr",
          "text": [
            "/usr/local/lib/python3.12/dist-packages/sklearn/utils/validation.py:2739: UserWarning: X does not have valid feature names, but LinearRegression was fitted with feature names\n",
            "  warnings.warn(\n"
          ]
        }
      ],
      "source": [
        "# Multiple Linear Regression Project: Predict Student Scores\n",
        "\n",
        "import pandas as pd\n",
        "import numpy as np\n",
        "import matplotlib.pyplot as plt\n",
        "from sklearn.linear_model import LinearRegression\n",
        "\n",
        "# Example dataset (Hours studied, Hours slept, Attendance, Score)\n",
        "data = {\n",
        "    \"Hours_Studied\": [5, 3, 8, 2, 4, 9, 6, 1, 7, 10],\n",
        "    \"Hours_Slept\": [7, 6, 8, 5, 7, 6, 8, 4, 7, 9],\n",
        "    \"Attendance\": [90, 75, 95, 60, 80, 98, 85, 50, 92, 99],\n",
        "    \"Score\": [80, 60, 90, 50, 65, 95, 85, 40, 88, 98]\n",
        "}\n",
        "\n",
        "df = pd.DataFrame(data)\n",
        "\n",
        "# Features (independent variables)\n",
        "X = df[[\"Hours_Studied\", \"Hours_Slept\", \"Attendance\"]]\n",
        "\n",
        "# Target (dependent variable)\n",
        "y = df[\"Score\"]\n",
        "\n",
        "# Create and train model\n",
        "model = LinearRegression()\n",
        "model.fit(X, y)\n",
        "\n",
        "# Predict a new student's score\n",
        "predicted_score = model.predict([[6, 7, 85]])  # e.g., 6 hrs study, 7 hrs sleep, 85% attendance\n",
        "print(\"Predicted Score:\", predicted_score[0])\n",
        "\n",
        "# Show coefficients\n",
        "print(\"Coefficients:\", model.coef_)\n",
        "print(\"Intercept:\", model.intercept_)"
      ]
    }
  ]
}